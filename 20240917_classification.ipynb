{
  "nbformat": 4,
  "nbformat_minor": 0,
  "metadata": {
    "colab": {
      "provenance": []
    },
    "kernelspec": {
      "display_name": "Python 3",
      "language": "python",
      "name": "python3"
    }
  },
  "cells": [
    {
      "cell_type": "code",
      "metadata": {
        "id": "cgT69wQ6cfxK"
      },
      "source": [
        "# 패키지 임포트\n",
        "from tensorflow.keras.datasets import mnist\n",
        "from tensorflow.keras.layers import Activation, Dense, Dropout\n",
        "from tensorflow.keras.models import Sequential\n",
        "from tensorflow.keras.optimizers import SGD\n",
        "from tensorflow.keras.utils import to_categorical\n",
        "import numpy as np\n",
        "import matplotlib.pyplot as plt\n",
        "%matplotlib inline"
      ],
      "execution_count": null,
      "outputs": []
    },
    {
      "cell_type": "code",
      "metadata": {
        "id": "7P7GT_qjcfxQ",
        "colab": {
          "base_uri": "https://localhost:8080/"
        },
        "outputId": "0880f719-2d41-4d22-e9f0-5a3116beaf5c"
      },
      "source": [
        "# 데이터 세트 준비\n",
        "(train_images, train_labels), (test_images, test_labels) = mnist.load_data()"
      ],
      "execution_count": null,
      "outputs": [
        {
          "output_type": "stream",
          "name": "stdout",
          "text": [
            "Downloading data from https://storage.googleapis.com/tensorflow/tf-keras-datasets/mnist.npz\n",
            "\u001b[1m11490434/11490434\u001b[0m \u001b[32m━━━━━━━━━━━━━━━━━━━━\u001b[0m\u001b[37m\u001b[0m \u001b[1m0s\u001b[0m 0us/step\n"
          ]
        }
      ]
    },
    {
      "cell_type": "code",
      "metadata": {
        "id": "adSFT4dGcfxS",
        "colab": {
          "base_uri": "https://localhost:8080/"
        },
        "outputId": "69b34753-b61a-4963-8fbe-ea3db56e9847"
      },
      "source": [
        "# 데이터 세트 셰이프 확인\n",
        "print(train_images.shape)\n",
        "print(train_labels.shape)\n",
        "print(test_images.shape)\n",
        "print(test_labels.shape)"
      ],
      "execution_count": null,
      "outputs": [
        {
          "output_type": "stream",
          "name": "stdout",
          "text": [
            "(60000, 28, 28)\n",
            "(60000,)\n",
            "(10000, 28, 28)\n",
            "(10000,)\n"
          ]
        }
      ]
    },
    {
      "cell_type": "code",
      "metadata": {
        "id": "-bajeUc2cfxU",
        "outputId": "c061b22a-4257-4598-8de2-b3e499c945b0",
        "colab": {
          "base_uri": "https://localhost:8080/",
          "height": 107
        }
      },
      "source": [
        "# 데이터 세트 이미지 확인\n",
        "for i in range(10):\n",
        "    plt.subplot(1, 10, i+1)\n",
        "    plt.imshow(train_images[i], 'gray')\n",
        "plt.show()"
      ],
      "execution_count": null,
      "outputs": [
        {
          "output_type": "display_data",
          "data": {
            "text/plain": [
              "<Figure size 640x480 with 10 Axes>"
            ],
            "image/png": "[encoded data removed]"
          },
          "metadata": {}
        }
      ]
    },
    {
      "cell_type": "code",
      "metadata": {
        "id": "2vqNwlFUcfxX",
        "outputId": "cb66445a-01aa-4517-bafc-2fe70881aa69",
        "colab": {
          "base_uri": "https://localhost:8080/"
        }
      },
      "source": [
        "# 데이터 세트 라벨 확인\n",
        "print(train_labels[0:10])"
      ],
      "execution_count": null,
      "outputs": [
        {
          "output_type": "stream",
          "name": "stdout",
          "text": [
            "[5 0 4 1 9 2 1 3 1 4]\n"
          ]
        }
      ]
    },
    {
      "cell_type": "code",
      "metadata": {
        "id": "6Pop1amkcfxZ",
        "outputId": "b48327f4-4dbe-42f9-be01-046d794dfc7a",
        "colab": {
          "base_uri": "https://localhost:8080/"
        }
      },
      "source": [
        "# 데이터 세트 이미지 전처리\n",
        "train_images = train_images.reshape((train_images.shape[0], 784))\n",
        "test_images = test_images.reshape((test_images.shape[0], 784))\n",
        "\n",
        "# 데이터 세트 이미지 전처리 후 셰이프 확인\n",
        "print(train_images.shape)\n",
        "print(test_images.shape)"
      ],
      "execution_count": null,
      "outputs": [
        {
          "output_type": "stream",
          "name": "stdout",
          "text": [
            "(60000, 784)\n",
            "(10000, 784)\n"
          ]
        }
      ]
    },
    {
      "cell_type": "code",
      "metadata": {
        "id": "6RgG6gGEcfxc",
        "outputId": "28442a8e-c3de-4153-bdaa-89523ed6ba2d",
        "colab": {
          "base_uri": "https://localhost:8080/"
        }
      },
      "source": [
        "# 데이터 세트 라벨 전처리\n",
        "train_labels = to_categorical(train_labels)\n",
        "test_labels = to_categorical(test_labels)\n",
        "\n",
        "# 데이터 세트 라벨 전처리 후 셰이프 확인\n",
        "print(train_labels.shape)\n",
        "print(test_labels.shape)"
      ],
      "execution_count": null,
      "outputs": [
        {
          "output_type": "stream",
          "name": "stdout",
          "text": [
            "(60000, 10)\n",
            "(10000, 10)\n"
          ]
        }
      ]
    },
    {
      "cell_type": "code",
      "metadata": {
        "id": "iHOr634gcfxf",
        "colab": {
          "base_uri": "https://localhost:8080/"
        },
        "outputId": "084a87fd-692e-4ad6-bbcc-e0500f3539a0"
      },
      "source": [
        "# 모델 생성\n",
        "model = Sequential()\n",
        "model.add(Dense(256, activation='sigmoid', input_shape=(784,))) # 입력 레이어\n",
        "model.add(Dense(128, activation='sigmoid')) # 히든 레이어\n",
        "model.add(Dropout(rate=0.5)) # 드롭아웃\n",
        "model.add(Dense(10, activation='softmax')) # 출력 레이어"
      ],
      "execution_count": null,
      "outputs": [
        {
          "output_type": "stream",
          "name": "stderr",
          "text": [
            "/usr/local/lib/python3.10/dist-packages/keras/src/layers/core/dense.py:87: UserWarning: Do not pass an `input_shape`/`input_dim` argument to a layer. When using Sequential models, prefer using an `Input(shape)` object as the first layer in the model instead.\n",
            "  super().__init__(activity_regularizer=activity_regularizer, **kwargs)\n"
          ]
        }
      ]
    },
    {
      "cell_type": "code",
      "metadata": {
        "id": "vPsmHR42cfxh"
      },
      "source": [
        "# 모델 컴파일\n",
        "model.compile(loss='categorical_crossentropy', optimizer=SGD(learning_rate=0.1), metrics=['acc'])"
      ],
      "execution_count": null,
      "outputs": []
    },
    {
      "cell_type": "code",
      "source": [
        "# 실행시간 측정\n",
        "import time\n",
        "import psutil\n",
        "\n",
        "# 실행 시간 측정 시작\n",
        "start_time = time.time()\n",
        "\n",
        "# CPU 및 메모리 사용량 측정 시작\n",
        "cpu_before = psutil.cpu_percent(interval=None)\n",
        "memory_before = psutil.virtual_memory().percent\n"
      ],
      "metadata": {
        "id": "jc5E6lkqw2Ra"
      },
      "execution_count": null,
      "outputs": []
    },
    {
      "cell_type": "code",
      "metadata": {
        "id": "rXVq3Hwycfxj",
        "outputId": "b630f328-9dab-4e30-8283-24090a46eb2d",
        "colab": {
          "base_uri": "https://localhost:8080/"
        }
      },
      "source": [
        "# 학습\n",
        "history = model.fit(train_images, train_labels, batch_size=500,\n",
        "    epochs=5, validation_split=0.2)"
      ],
      "execution_count": null,
      "outputs": [
        {
          "output_type": "stream",
          "name": "stdout",
          "text": [
            "Epoch 1/5\n",
            "\u001b[1m96/96\u001b[0m \u001b[32m━━━━━━━━━━━━━━━━━━━━\u001b[0m\u001b[37m\u001b[0m \u001b[1m3s\u001b[0m 19ms/step - acc: 0.2876 - loss: 2.0754 - val_acc: 0.8409 - val_loss: 0.9935\n",
            "Epoch 2/5\n",
            "\u001b[1m96/96\u001b[0m \u001b[32m━━━━━━━━━━━━━━━━━━━━\u001b[0m\u001b[37m\u001b[0m \u001b[1m2s\u001b[0m 16ms/step - acc: 0.7071 - loss: 1.0387 - val_acc: 0.8890 - val_loss: 0.5801\n",
            "Epoch 3/5\n",
            "\u001b[1m96/96\u001b[0m \u001b[32m━━━━━━━━━━━━━━━━━━━━\u001b[0m\u001b[37m\u001b[0m \u001b[1m4s\u001b[0m 27ms/step - acc: 0.8062 - loss: 0.7066 - val_acc: 0.8975 - val_loss: 0.4404\n",
            "Epoch 4/5\n",
            "\u001b[1m96/96\u001b[0m \u001b[32m━━━━━━━━━━━━━━━━━━━━\u001b[0m\u001b[37m\u001b[0m \u001b[1m4s\u001b[0m 16ms/step - acc: 0.8460 - loss: 0.5658 - val_acc: 0.9073 - val_loss: 0.3703\n",
            "Epoch 5/5\n",
            "\u001b[1m96/96\u001b[0m \u001b[32m━━━━━━━━━━━━━━━━━━━━\u001b[0m\u001b[37m\u001b[0m \u001b[1m3s\u001b[0m 16ms/step - acc: 0.8629 - loss: 0.4930 - val_acc: 0.9132 - val_loss: 0.3274\n"
          ]
        }
      ]
    },
    {
      "cell_type": "code",
      "source": [
        "# CPU 및 메모리 사용량 측정\n",
        "# 학습 완료 후 실행 시간 측정 종료\n",
        "end_time = time.time()\n",
        "execution_time = end_time - start_time\n",
        "print(f\"Execution Time: {execution_time} seconds\")\n",
        "\n",
        "# CPU 및 메모리 사용량 측정 종료\n",
        "cpu_after = psutil.cpu_percent(interval=None)\n",
        "memory_after = psutil.virtual_memory().percent\n",
        "\n",
        "cpu_efficiency = cpu_after - cpu_before\n",
        "memory_efficiency = memory_after - memory_before\n",
        "\n",
        "print(f\"CPU Efficiency: {cpu_efficiency}%\")\n",
        "print(f\"Memory Efficiency: {memory_efficiency}%\")"
      ],
      "metadata": {
        "colab": {
          "base_uri": "https://localhost:8080/"
        },
        "id": "APteEHpaw-Qi",
        "outputId": "8733b804-c50f-421b-d552-50a6b3508b76"
      },
      "execution_count": null,
      "outputs": [
        {
          "output_type": "stream",
          "name": "stdout",
          "text": [
            "Execution Time: 26.98120141029358 seconds\n",
            "CPU Efficiency: 19.099999999999998%\n",
            "Memory Efficiency: 0.7000000000000011%\n"
          ]
        }
      ]
    },
    {
      "cell_type": "code",
      "metadata": {
        "id": "ATFYEN0xcfxm",
        "outputId": "f8db2a7d-af2c-4824-84d7-d1e5f71e8c92",
        "colab": {
          "base_uri": "https://localhost:8080/",
          "height": 449
        }
      },
      "source": [
        "# 그래프 표시\n",
        "plt.plot(history.history['acc'], label='acc')\n",
        "plt.plot(history.history['val_acc'], label='val_acc')\n",
        "plt.ylabel('accuracy')\n",
        "plt.xlabel('epoch')\n",
        "plt.legend(loc='best')\n",
        "plt.show()"
      ],
      "execution_count": null,
      "outputs": [
        {
          "output_type": "display_data",
          "data": {
            "text/plain": [
              "<Figure size 640x480 with 1 Axes>"
            ],
            "image/png": "[encoded data removed]"
          },
          "metadata": {}
        }
      ]
    },
    {
      "cell_type": "code",
      "metadata": {
        "id": "ywNkSnu2cfxo",
        "outputId": "03520b80-bbc9-4480-c44a-fc5303870b9b",
        "colab": {
          "base_uri": "https://localhost:8080/"
        }
      },
      "source": [
        "# 평가\n",
        "test_loss, test_acc = model.evaluate(test_images, test_labels)\n",
        "print('loss: {:.3f}\\nacc: {:.3f}'.format(test_loss, test_acc ))"
      ],
      "execution_count": null,
      "outputs": [
        {
          "output_type": "stream",
          "name": "stdout",
          "text": [
            "\u001b[1m313/313\u001b[0m \u001b[32m━━━━━━━━━━━━━━━━━━━━\u001b[0m\u001b[37m\u001b[0m \u001b[1m2s\u001b[0m 5ms/step - acc: 0.8982 - loss: 0.3737\n",
            "loss: 0.333\n",
            "acc: 0.913\n"
          ]
        }
      ]
    },
    {
      "cell_type": "code",
      "metadata": {
        "id": "Ppy7JafUcfxq",
        "outputId": "8754308c-a895-4739-8ff2-7262d0be899e",
        "colab": {
          "base_uri": "https://localhost:8080/",
          "height": 142
        }
      },
      "source": [
        "# 추론할 이미지 표시\n",
        "for i in range(10):\n",
        "    plt.subplot(1, 10, i+1)\n",
        "    plt.imshow(test_images[i].reshape((28, 28)), 'gray')\n",
        "plt.show()\n",
        "\n",
        "# 추론한 라벨 표시\n",
        "test_predictions = model.predict(test_images[0:10])\n",
        "test_predictions = np.argmax(test_predictions, axis=1)\n",
        "print(test_predictions)"
      ],
      "execution_count": null,
      "outputs": [
        {
          "output_type": "display_data",
          "data": {
            "text/plain": [
              "<Figure size 640x480 with 10 Axes>"
            ],
            "image/png": "[encoded data removed]"
          },
          "metadata": {}
        },
        {
          "output_type": "stream",
          "name": "stdout",
          "text": [
            "\u001b[1m1/1\u001b[0m \u001b[32m━━━━━━━━━━━━━━━━━━━━\u001b[0m\u001b[37m\u001b[0m \u001b[1m0s\u001b[0m 56ms/step\n",
            "[7 2 1 0 4 1 4 9 6 9]\n"
          ]
        }
      ]
    }
  ]
}